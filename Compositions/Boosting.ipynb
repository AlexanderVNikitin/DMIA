{
 "metadata": {
  "name": "",
  "signature": "sha256:d55880224d407662386f4d2f1d8daa4f657aca95ec9ae8fe535f81a80ce17a1c"
 },
 "nbformat": 3,
 "nbformat_minor": 0,
 "worksheets": [
  {
   "cells": [
    {
     "cell_type": "markdown",
     "metadata": {},
     "source": [
      "## Lets make composition step by step.\n",
      "$b_1 = arg \\min\\limits_{b}Q(F(b), X^l)$<br>\n",
      "$b_2 = arg \\min\\limits_{b}Q(F(b_1, b), X^l)$<br>\n",
      "...<br>\n",
      "$b_n = arg \\min\\limits_{b}Q(F(b_1, b_2,..., b_{n - 1}, b), X^l)$\n",
      "\n",
      "Want to make one optimization task:\n",
      "$b_t = arg \\min\\limits_{b} \\sum\\limits_{i = 1}^{l}w_i L(b(x_i), y_i)$"
     ]
    },
    {
     "cell_type": "markdown",
     "metadata": {},
     "source": []
    },
    {
     "cell_type": "code",
     "collapsed": false,
     "input": [],
     "language": "python",
     "metadata": {},
     "outputs": []
    }
   ],
   "metadata": {}
  }
 ]
}