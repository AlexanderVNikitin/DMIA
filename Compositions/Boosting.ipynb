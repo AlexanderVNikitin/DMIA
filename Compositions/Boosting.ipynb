{
 "metadata": {
  "name": "",
  "signature": "sha256:863b8676b5ba565196b32bb591d80ae2ea66909b10bbc7d2115c6c64ee80cd57"
 },
 "nbformat": 3,
 "nbformat_minor": 0,
 "worksheets": [
  {
   "cells": [
    {
     "cell_type": "markdown",
     "metadata": {},
     "source": [
      "## Lets make composition step by step.\n",
      "$b_1 = arg \\min\\limits_{b}Q(F(b), X^l)$<br>\n",
      "$b_2 = arg \\min\\limits_{b}Q(F(b_1, b), X^l)$<br>\n",
      "...<br>\n",
      "$b_n = arg \\min\\limits_{b}Q(F(b_1, b_2,..., b_{n - 1}, b), X^l)$\n",
      "\n",
      "Want to make one optimization task:\n",
      "$b_t = arg \\min\\limits_{b} \\sum\\limits_{i = 1}^{l}w_i L(b(x_i), y_i)$"
     ]
    },
    {
     "cell_type": "markdown",
     "metadata": {},
     "source": [
      "$Q_t \\leq \\sum\\limits_{i = 1}^{l} y_i * \\sum\\limits_{t = 1}^{T - 1}$"
     ]
    }
   ],
   "metadata": {}
  }
 ]
}