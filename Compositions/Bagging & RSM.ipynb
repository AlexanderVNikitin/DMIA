{
 "metadata": {
  "name": "",
  "signature": "sha256:438a5c12b41caa9f558c1a2cc0a961a9c49aa9ecfaccf7771f69362099adcbf4"
 },
 "nbformat": 3,
 "nbformat_minor": 0,
 "worksheets": [
  {
   "cells": [
    {
     "cell_type": "markdown",
     "metadata": {},
     "source": [
      "## Bagging"
     ]
    },
    {
     "cell_type": "markdown",
     "metadata": {},
     "source": [
      "$b_1, ..., b_t$ -- base estimators<br>\n",
      "$a(x) = C(F(b_1(x),...,b_M(x)))$<br>\n",
      "\u0421 -- Vote<br>\n",
      "F -- Correction"
     ]
    },
    {
     "cell_type": "markdown",
     "metadata": {},
     "source": [
      "## Voting types\n",
      "* Simple voting: $F(b_1,...b_M) = \\frac{1}{M} \\sum\\limits_{i=1}^{M}b_i(x)$<br>\n",
      "* Weighted voting: $F(b_1,...b_M) = \\sum\\limits_{i=1}^{M}\\alpha_ib_i(x)$<br>\n",
      "* Simple voting: $F(b_1,...b_M) = \\sum\\limits_{i=1}^{M}\\alpha_i(x)b_i(x)$<br>"
     ]
    },
    {
     "cell_type": "markdown",
     "metadata": {},
     "source": [
      "## Random Subspace method (RSM)\n",
      "Choose random features. Train classifier on them."
     ]
    },
    {
     "cell_type": "markdown",
     "metadata": {},
     "source": [
      "##Bagging \n",
      "Choose random samples. Train classifier on them."
     ]
    },
    {
     "cell_type": "code",
     "collapsed": false,
     "input": [],
     "language": "python",
     "metadata": {},
     "outputs": []
    },
    {
     "cell_type": "code",
     "collapsed": false,
     "input": [],
     "language": "python",
     "metadata": {},
     "outputs": []
    }
   ],
   "metadata": {}
  }
 ]
}