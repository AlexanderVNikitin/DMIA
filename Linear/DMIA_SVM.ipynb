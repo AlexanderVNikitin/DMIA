{
 "metadata": {
  "name": "",
  "signature": "sha256:1069836e06dbe30bd27b1855d221a4464447e507550b779942bde753c8ba17de"
 },
 "nbformat": 3,
 "nbformat_minor": 0,
 "worksheets": [
  {
   "cells": [
    {
     "cell_type": "markdown",
     "metadata": {},
     "source": [
      "## Usefull imports"
     ]
    },
    {
     "cell_type": "code",
     "collapsed": false,
     "input": [
      "import numpy as np\n",
      "import matplotlib.pyplot as plt\n",
      "from sklearn import svm, datasets\n",
      "from sklearn.cross_validation import cross_val_score, ShuffleSplit\n",
      "from sklearn.neighbors import KNeighborsClassifier\n",
      "%pylab inline"
     ],
     "language": "python",
     "metadata": {},
     "outputs": [
      {
       "output_type": "stream",
       "stream": "stdout",
       "text": [
        "Populating the interactive namespace from numpy and matplotlib\n"
       ]
      }
     ],
     "prompt_number": 56
    },
    {
     "cell_type": "markdown",
     "metadata": {},
     "source": [
      "## Linear classifier\n"
     ]
    },
    {
     "cell_type": "markdown",
     "metadata": {},
     "source": [
      "$$ Y = \\{-1, +1\\} $$\n",
      "$$ a(x, w) = sign\\{f(x, w) (- w_0) \\}$$\n",
      "\n",
      "Loss Function: $ I\\{M < 0\\} \\leq L(M) $ \n",
      "\n",
      "Empirical Risk:\n",
      "$$ Q(w, X^l) = \\sum_{i = 1}^{l} I\\{M_i(w) < 0\\} \\leq \\tilde{Q}(w, X^l) = \\sum_{i = 1}^{l} L(M_i(w)) \\to \\min\\limits_{w} $$\n",
      "\n",
      "## Linear Model\n",
      "\n",
      "$$ f(x, w) = <w, x> - w_0 $$"
     ]
    },
    {
     "cell_type": "markdown",
     "metadata": {},
     "source": [
      "### Random dataset"
     ]
    },
    {
     "cell_type": "code",
     "collapsed": false,
     "input": [
      "g1 = np.random.multivariate_normal((-1,-1), np.eye(2)*0.1, 10)\n",
      "g2 = np.random.multivariate_normal((1,1), np.eye(2)*0.1, 10)\n",
      "\n",
      "plt.scatter(*g1.T, color='r')\n",
      "plt.scatter(*g2.T, color='g')\n",
      "\n",
      "plt.xlim(-2,2); plt.ylim(-2,2);"
     ],
     "language": "python",
     "metadata": {},
     "outputs": [
      {
       "metadata": {},
       "output_type": "display_data",
       "png": "[encoded data removed]",
       "text": [
        "<matplotlib.figure.Figure at 0x7f6e345055d0>"
       ]
      }
     ],
     "prompt_number": 19
    },
    {
     "cell_type": "markdown",
     "metadata": {},
     "source": [
      "Let's try to separate it..."
     ]
    },
    {
     "cell_type": "code",
     "collapsed": false,
     "input": [
      "plt.scatter(*g1.T, color='r')\n",
      "plt.scatter(*g2.T, color='g')\n",
      "\n",
      "x,y = np.transpose([g1[np.where(g1.T[1]==g1.max(0)[1])[0][0]], \n",
      "                       g2[np.where(g2.T[1]==g2.min(0)[1])[0][0]]])\n",
      "\n",
      "b0,b1 = np.linalg.lstsq(np.c_[[1,1],x], y)[0]\n",
      "xspace = np.linspace(-3,3,100)\n",
      "plt.plot(xspace, b0 + (b1-.1)*xspace, 'k')\n",
      "plt.xlim(-2,2); plt.ylim(-2,2);"
     ],
     "language": "python",
     "metadata": {},
     "outputs": [
      {
       "metadata": {},
       "output_type": "display_data",
       "png": "[encoded data removed]",
       "text": [
        "<matplotlib.figure.Figure at 0x7f6e3430ed10>"
       ]
      }
     ],
     "prompt_number": 20
    },
    {
     "cell_type": "markdown",
     "metadata": {},
     "source": [
      "## Support vector machine"
     ]
    },
    {
     "cell_type": "markdown",
     "metadata": {},
     "source": [
      "<img src=\"./static/Svm_max_sep_hyperplane_with_margin.png\"/ width=\"255\" height=\"255\" align=\"left\">"
     ]
    },
    {
     "cell_type": "markdown",
     "metadata": {},
     "source": [
      "Linear Separability\n",
      "\n",
      "\\begin{cases}\n",
      "    <w, w> \\to \\min\\limits_{w} \\\\\n",
      "    y_i (<w, x_i> - w_0) \\geq 1\n",
      "\\end{cases}\n",
      "\n",
      "Linear Inseparability\n",
      "\n",
      "\\begin{cases}\n",
      "    \\frac{1}{2} <w, w> + C \\sum \\xi_i \\to \\min\\limits_{w, \\xi} \\\\\n",
      "    y_i (<w, x_i> - w_0) \\geq 1 - \\xi_i\\\\\n",
      "    \\xi_i \\geq 0\n",
      "\\end{cases}\n",
      "\n",
      "### Dual problem\n",
      "\n",
      "Th. Karush\u2013Kuhn\u2013Tucker\n",
      "\n",
      "Before:\n",
      "\\begin{cases}\n",
      "    \\sum f(x_i) \\to \\min\\limits_{x} \\\\\n",
      "    h(x_i) \\geq 0, i = 1, \\ldots, n\n",
      "\\end{cases}\n",
      "\n",
      "After:\n",
      "\\begin{cases}\n",
      "    \\sum f(x_i) - \\lambda_i h(x_i) \\to \\min\\limits_{x} \\max\\limits_{\\lambda} \\\\\n",
      "    h(x_i) \\geq 0, i = 1, \\ldots, n \\\\\n",
      "    \\lambda_i \\geq 0, i = 1, \\ldots, n \\\\\n",
      "    \\lambda_i = 0 \\ or \\  h(x_i) = 0 \\ (\\sum \\lambda_i h(x_i) = 0)\n",
      "\\end{cases}\n",
      "\n",
      "\\begin{cases}\n",
      "    -\\sum\\limits_{i=1}^{l} \\lambda_i + \\frac{1}{2} \\sum\\limits_{i=1}^{l} \\sum\\limits_{j=1}^{l} \\lambda_i \\lambda_j y_i y_j <x_i, x_j> \\to \\min\\limits_{\\lambda} \\\\\n",
      "    \\sum\\limits_{i=1}^{l} \\lambda_i y_i = 0 \\\\\n",
      "    0 \\leq \\lambda_i \\geq C, i = 1, \\ldots, l\n",
      "\\end{cases}"
     ]
    },
    {
     "cell_type": "markdown",
     "metadata": {},
     "source": [
      "## Kernel motivation\n",
      "Increase the dimension of variable space to create feature space"
     ]
    },
    {
     "cell_type": "code",
     "collapsed": false,
     "input": [
      "set1 = np.array([1, 2, 3 , 4])\n",
      "set2 = np.array([-10, -9, -8, 8, 9, 10])\n",
      "\n",
      "plt.scatter(set1, [0]*len(set1), color='r')\n",
      "plt.scatter(set2, [0]*len(set2), color='g')"
     ],
     "language": "python",
     "metadata": {},
     "outputs": [
      {
       "metadata": {},
       "output_type": "pyout",
       "prompt_number": 21,
       "text": [
        "<matplotlib.collections.PathCollection at 0x7f6e341c4410>"
       ]
      },
      {
       "metadata": {},
       "output_type": "display_data",
       "png": "[encoded data removed]",
       "text": [
        "<matplotlib.figure.Figure at 0x7f6e347b9d90>"
       ]
      }
     ],
     "prompt_number": 21
    },
    {
     "cell_type": "code",
     "collapsed": false,
     "input": [
      "func = lambda x: (x - 2) **2\n",
      "\n",
      "features1 = [set1, func(set1)]\n",
      "features2 = [set2, func(set2)]\n",
      "\n",
      "plt.scatter(*features1, color='r')\n",
      "plt.scatter(*features2, color='g')\n",
      "\n",
      "xs = np.linspace(-15, 15)\n",
      "plt.plot(xs, [15] * len(xs), 'k-');"
     ],
     "language": "python",
     "metadata": {},
     "outputs": [
      {
       "metadata": {},
       "output_type": "display_data",
       "png": "[encoded data removed]",
       "text": [
        "<matplotlib.figure.Figure at 0x7f6e341c4550>"
       ]
      }
     ],
     "prompt_number": 23
    },
    {
     "cell_type": "markdown",
     "metadata": {},
     "source": [
      "# Kernels"
     ]
    },
    {
     "cell_type": "markdown",
     "metadata": {},
     "source": [
      "Kernel fuction $ K : X \\times X\\to R $ \n",
      "\n",
      "If exists $\\phi$ $ K(x, x') = <\\phi(x), \\phi(x')> $, where $ \\phi : X \\to H $ and H is space with scalar product."
     ]
    },
    {
     "cell_type": "markdown",
     "metadata": {},
     "source": [
      "### Theorem\n",
      "Function is kernel iff its symmetric and positive-semidefined ( For any $g$: $\\int_X \\int_X K(x, x') g(x) g(x')~dxdx' \\geq 0 $ )"
     ]
    },
    {
     "cell_type": "code",
     "collapsed": false,
     "input": [
      "# import some data to play with\n",
      "iris = datasets.load_iris()\n",
      "X = iris.data[:, :2]  # we only take the first two features. We could\n",
      "                      # avoid this ugly slicing by using a two-dim dataset\n",
      "y = iris.target"
     ],
     "language": "python",
     "metadata": {},
     "outputs": [],
     "prompt_number": 24
    },
    {
     "cell_type": "code",
     "collapsed": false,
     "input": [
      "h = .02  \n",
      "C = 1.0  \n",
      "svc = svm.SVC(kernel='linear', C=C).fit(X, y)\n",
      "rbf_svc00 = svm.SVC(kernel='rbf', gamma=0.0, C=C).fit(X, y)\n",
      "rbf_svc07 = svm.SVC(kernel='rbf', gamma=0.7, C=C).fit(X, y)\n",
      "rbf_svc10 = svm.SVC(kernel='rbf', gamma=10, C=C).fit(X, y)\n",
      "poly_svc = svm.SVC(kernel='poly', degree=3, C=C).fit(X, y)\n",
      "lin_svc = svm.LinearSVC(C=C).fit(X, y)\n",
      "\n",
      "# create a mesh to plot in\n",
      "x_min, x_max = X[:, 0].min() - 1, X[:, 0].max() + 1\n",
      "y_min, y_max = X[:, 1].min() - 1, X[:, 1].max() + 1\n",
      "xx, yy = np.meshgrid(np.arange(x_min, x_max, h),\n",
      "                     np.arange(y_min, y_max, h))\n",
      "\n",
      "# title for the plots\n",
      "titles = ['Linear kernel',\n",
      "          'LinearSVC',\n",
      "          'RBF kernel',\n",
      "          'RBF kernel',\n",
      "          'RBF kernel',\n",
      "          'polynomial (degree 3)']"
     ],
     "language": "python",
     "metadata": {},
     "outputs": [],
     "prompt_number": 25
    },
    {
     "cell_type": "code",
     "collapsed": false,
     "input": [
      "for i, clf in enumerate((svc, lin_svc, rbf_svc00, rbf_svc07, rbf_svc10, poly_svc)):\n",
      "    # Plot the decision boundary. For that, we will assign a color to each\n",
      "    # point in the mesh [x_min, m_max]x[y_min, y_max].\n",
      "    plt.subplot(3, 3, i + 1)\n",
      "    plt.subplots_adjust(wspace=0.5, hspace=0.5)\n",
      "\n",
      "    Z = clf.predict(np.c_[xx.ravel(), yy.ravel()])\n",
      "\n",
      "    # Put the result into a color plot\n",
      "    Z = Z.reshape(xx.shape)\n",
      "    plt.contourf(xx, yy, Z, cmap=plt.cm.Paired, alpha=0.9)\n",
      "\n",
      "    # Plot also the training points\n",
      "    plt.scatter(X[:, 0], X[:, 1], c=y, cmap=plt.cm.Paired)\n",
      "    plt.xlabel('length')\n",
      "    plt.ylabel('width')\n",
      "    plt.xlim(xx.min(), xx.max())\n",
      "    plt.ylim(yy.min(), yy.max())\n",
      "    plt.xticks(())\n",
      "    plt.yticks(())\n",
      "    plt.title(titles[i])\n",
      "\n",
      "plt.show()"
     ],
     "language": "python",
     "metadata": {},
     "outputs": [
      {
       "metadata": {},
       "output_type": "display_data",
       "png": "[encoded data removed]",
       "text": [
        "<matplotlib.figure.Figure at 0x7f6e3428ecd0>"
       ]
      }
     ],
     "prompt_number": 26
    },
    {
     "cell_type": "markdown",
     "metadata": {},
     "source": [
      "## Regularization\n",
      "Regularization is real life implementation of [Occam's razor](http://en.wikipedia.org/wiki/Occam%27s_razor#Mathematical)\n",
      "$$ Q(a, X^l) =  \\sum\\limits_{i=1}^{l} (<w, x_i> - w_0 - y_i)^2 + \\tau ||w|| \\to \\min\\limits_{w, w_0}$$\n",
      "$$ Q(a, X^l) =  \\sum\\limits_{i=1}^{l} (<w, x_i> - w_0 - y_i)^2 + \\tau ||w||^2 \\to \\min\\limits_{w, w_0} $$\n",
      "\n",
      "<img src=\"./static/regularization.png\" width=\"400\" height=\"400\" align=\"left\">"
     ]
    },
    {
     "cell_type": "markdown",
     "metadata": {},
     "source": [
      "## Preprocessing\n",
      "* Scaling\n",
      "* Normalization\n",
      "* Categorical features encoding\n",
      "* Missing data"
     ]
    },
    {
     "cell_type": "code",
     "collapsed": false,
     "input": [
      "from sklearn import preprocessing\n",
      "iris = datasets.load_iris()\n",
      "X = iris.data"
     ],
     "language": "python",
     "metadata": {},
     "outputs": [],
     "prompt_number": 27
    },
    {
     "cell_type": "markdown",
     "metadata": {},
     "source": [
      "#### Scaling"
     ]
    },
    {
     "cell_type": "code",
     "collapsed": false,
     "input": [
      "# to N(0, 1)\n",
      "X_scaled = preprocessing.scale(X)\n",
      "\n",
      "scaler = preprocessing.StandardScaler().fit(X)"
     ],
     "language": "python",
     "metadata": {},
     "outputs": [],
     "prompt_number": 28
    },
    {
     "cell_type": "markdown",
     "metadata": {},
     "source": [
      "#### Normalization"
     ]
    },
    {
     "cell_type": "code",
     "collapsed": false,
     "input": [
      "preprocessing.normalize(X, norm='l1')\n",
      "preprocessing.normalize(X, norm='l2')\n",
      "normalizer = preprocessing.Normalizer().fit(X)"
     ],
     "language": "python",
     "metadata": {},
     "outputs": [],
     "prompt_number": 29
    },
    {
     "cell_type": "markdown",
     "metadata": {},
     "source": [
      "####Categorical features encoding"
     ]
    },
    {
     "cell_type": "code",
     "collapsed": false,
     "input": [
      "enc = preprocessing.OneHotEncoder()\n",
      "enc.fit([[1, 1, 2], [0, 1, 2], [0, 1, 2]]) \n",
      "enc.transform([[0, 1, 2]]).toarray()"
     ],
     "language": "python",
     "metadata": {},
     "outputs": [
      {
       "metadata": {},
       "output_type": "pyout",
       "prompt_number": 39,
       "text": [
        "array([[ 1.,  0.,  1.,  1.]])"
       ]
      }
     ],
     "prompt_number": 39
    },
    {
     "cell_type": "markdown",
     "metadata": {},
     "source": [
      "#### Missing data"
     ]
    },
    {
     "cell_type": "code",
     "collapsed": false,
     "input": [
      "from sklearn.preprocessing import Imputer\n",
      "imp = Imputer(missing_values='NaN', strategy='mean', axis=0)\n",
      "imp.fit([[1, 0], [1, 0], [np.nan, 0]])\n",
      "X = [[np.nan, 0], [1, 1]]\n",
      "imp.transform(X)"
     ],
     "language": "python",
     "metadata": {},
     "outputs": [
      {
       "metadata": {},
       "output_type": "pyout",
       "prompt_number": 42,
       "text": [
        "array([[ 1.,  0.],\n",
        "       [ 1.,  1.]])"
       ]
      }
     ],
     "prompt_number": 42
    },
    {
     "cell_type": "markdown",
     "metadata": {},
     "source": [
      "## Game"
     ]
    },
    {
     "cell_type": "code",
     "collapsed": false,
     "input": [
      "iris = datasets.load_iris()\n",
      "cv_strategy = ShuffleSplit(len(iris.target), n_iter=150, test_size=0.3, random_state=42)\n",
      "#iris.data[:, 1].std()"
     ],
     "language": "python",
     "metadata": {},
     "outputs": [],
     "prompt_number": 57
    },
    {
     "cell_type": "code",
     "collapsed": false,
     "input": [
      "estimators = [\n",
      "    KNeighborsClassifier()\n",
      "]\n",
      "for estimator in estimators:\n",
      "    scoring = cross_val_score(estimator, iris.data, iris.target, scoring='f1', cv=cv_strategy)\n",
      "    print '%.3lf' % scoring.mean(), '%.4lf' % scoring.std()"
     ],
     "language": "python",
     "metadata": {},
     "outputs": [
      {
       "output_type": "stream",
       "stream": "stdout",
       "text": [
        "0.963 0.0271\n"
       ]
      }
     ],
     "prompt_number": 58
    },
    {
     "cell_type": "code",
     "collapsed": false,
     "input": [
      "# Watching estimator params"
     ],
     "language": "python",
     "metadata": {},
     "outputs": [],
     "prompt_number": 67
    },
    {
     "cell_type": "markdown",
     "metadata": {},
     "source": [
      "### Games with C"
     ]
    },
    {
     "cell_type": "code",
     "collapsed": false,
     "input": [
      "## TODO"
     ],
     "language": "python",
     "metadata": {},
     "outputs": [],
     "prompt_number": 3
    },
    {
     "cell_type": "code",
     "collapsed": false,
     "input": [],
     "language": "python",
     "metadata": {},
     "outputs": []
    },
    {
     "cell_type": "markdown",
     "metadata": {},
     "source": [
      "## TODO\n",
      "* The dual problem <br>\n",
      "* Regularization <br>\n",
      "* Visualization of game with C-param<br>\n",
      "* Multi-class classification\n",
      "* Quadratic programming task (cvxopt) with visualization\n"
     ]
    },
    {
     "cell_type": "markdown",
     "metadata": {},
     "source": [
      "##See also"
     ]
    },
    {
     "cell_type": "markdown",
     "metadata": {},
     "source": [
      "There are a lot of usefull links about SVM: <br>\n",
      "Vorontsov ML course: http://www.ccas.ru/voron/download/SVM.pdf <br>\n",
      "Scikit-learn docs: http://scikit-learn.org/stable/modules/generated/sklearn.svm.SVC.html <br>\n",
      "LibLinear: http://www.csie.ntu.edu.tw/~cjlin/liblinear/ <br>\n",
      "LibSVM: http://www.csie.ntu.edu.tw/~cjlin/libsvm/ "
     ]
    }
   ],
   "metadata": {}
  }
 ]
}