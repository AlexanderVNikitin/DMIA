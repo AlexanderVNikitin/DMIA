{
 "metadata": {
  "name": "",
  "signature": "sha256:992a82a2a6dd2c057d6bbaec2fd27aa29ebeea04abf455df79bebd32af8c1f1b"
 },
 "nbformat": 3,
 "nbformat_minor": 0,
 "worksheets": [
  {
   "cells": [
    {
     "cell_type": "code",
     "collapsed": false,
     "input": [
      "import numpy as np\n",
      "\n",
      "%pylab inline"
     ],
     "language": "python",
     "metadata": {},
     "outputs": [
      {
       "output_type": "stream",
       "stream": "stdout",
       "text": [
        "Populating the interactive namespace from numpy and matplotlib\n"
       ]
      }
     ],
     "prompt_number": 112
    },
    {
     "cell_type": "markdown",
     "metadata": {},
     "source": [
      "##Training neural networks\n",
      "\n",
      "$Q(w) = \\sum\\limits_{i = 1}^{l}L(w, x_i, y_i) \\to \\min\\limits_{w}$\n",
      "\n",
      "Can solve it using stochastic  gradient descent"
     ]
    },
    {
     "cell_type": "markdown",
     "metadata": {},
     "source": [
      "####BackPropagation\n",
      "\n",
      "(BP-0): $a_{last}^m = \\sigma_m(\\sum\\limits_{h = 0}^{H} w_{hm} a^h_{last-1}(x_i))$\n",
      "\n",
      "For example we will use MSE:\n",
      "$L_i(w) = \\frac{1}{2}\\sum\\limits_{m = 1}^{M}(a^m_{last}(x_i) - y_i^m)^2$\n",
      "\n",
      "(BP-1): $\\frac{d L_i(w)}{da^m_{last}} = a^m_{last} - y^m_i = \\epsilon(i, m, last) - $ error on output layer\n",
      "\n",
      "(BP-2): $\\frac{d L_i(w)}{da^m_{last - 1}} = \\sum\\limits_{m = 1}^{M} (a^m_{last} - y^m_i) \\sigma_m^{'}w_{hm} = \\sum\\limits_{m = 1}^{M} \\epsilon(i, m, last) \\sigma_m^{'}w_{hm} = \\epsilon(i, m, last - 1)$\n",
      "\n",
      "From (BP-1) \u0438 (BP-2) error go back from output layer. So we can calculate it goin  back.\n",
      "\n",
      "Weights gradient:\n",
      "(BP-3): $\\frac{d L_i(w)}{dw_{hm}} = \\frac{dL_i}{da^m} \\frac{da^m}{dw_{hm}}$\n",
      "\n",
      "From this equations we can make BackPropagation algorithm:\n",
      "```\n",
      "BackPropagation:\n",
      "While Q not stable:\n",
      "  1. Choose x from training set\n",
      "  2. Go forward using x (BP-0)\n",
      "  3. Go back (BP-1, BP-2) using results of step 2\n",
      "  4. Recalculate W (BP-3)\n",
      "  5. Using W recalculate Q\n",
      "```"
     ]
    },
    {
     "cell_type": "markdown",
     "metadata": {},
     "source": [
      "###Good libraries:\n",
      "* pybrain\n",
      "* neurolab\n",
      "* FANN\n",
      "* Theano"
     ]
    },
    {
     "cell_type": "markdown",
     "metadata": {},
     "source": [
      "## PyBrain"
     ]
    },
    {
     "cell_type": "code",
     "collapsed": false,
     "input": [
      "from pybrain.structure import FeedForwardNetwork\n",
      "from pybrain.structure import LinearLayer, SigmoidLayer, TanhLayer\n",
      "from pybrain.structure import FullConnection\n",
      "from pybrain.datasets import SupervisedDataSet\n",
      "from pybrain.tools.shortcuts import buildNetwork"
     ],
     "language": "python",
     "metadata": {},
     "outputs": [],
     "prompt_number": 21
    },
    {
     "cell_type": "code",
     "collapsed": false,
     "input": [
      "net = FeedForwardNetwork()\n",
      "inLayer = LinearLayer(2)\n",
      "hiddenLayer = SigmoidLayer(3)\n",
      "outLayer = LinearLayer(1)"
     ],
     "language": "python",
     "metadata": {},
     "outputs": [],
     "prompt_number": 6
    },
    {
     "cell_type": "code",
     "collapsed": false,
     "input": [
      "net.addInputModule(inLayer)\n",
      "net.addModule(hiddenLayer)\n",
      "net.addOutputModule(outLayer)"
     ],
     "language": "python",
     "metadata": {},
     "outputs": [],
     "prompt_number": 7
    },
    {
     "cell_type": "code",
     "collapsed": false,
     "input": [
      "in_to_hidden = FullConnection(inLayer, hiddenLayer)\n",
      "hidden_to_out = FullConnection(hiddenLayer, outLayer)"
     ],
     "language": "python",
     "metadata": {},
     "outputs": [],
     "prompt_number": 9
    },
    {
     "cell_type": "code",
     "collapsed": false,
     "input": [
      "net.addConnection(in_to_hidden)\n",
      "net.addConnection(hidden_to_out)\n",
      "net.sortModules()"
     ],
     "language": "python",
     "metadata": {},
     "outputs": [],
     "prompt_number": 11
    },
    {
     "cell_type": "code",
     "collapsed": false,
     "input": [
      "print net"
     ],
     "language": "python",
     "metadata": {},
     "outputs": [
      {
       "output_type": "stream",
       "stream": "stdout",
       "text": [
        "FeedForwardNetwork-20\n",
        "   Modules:\n",
        "    [<BiasUnit 'bias'>, <LinearLayer 'in'>, <TanhLayer 'hidden0'>, <LinearLayer 'out'>]\n",
        "   Connections:\n",
        "    [<FullConnection 'FullConnection-16': 'in' -> 'hidden0'>, <FullConnection 'FullConnection-17': 'bias' -> 'out'>, <FullConnection 'FullConnection-18': 'bias' -> 'hidden0'>, <FullConnection 'FullConnection-19': 'hidden0' -> 'out'>]\n",
        "\n"
       ]
      }
     ],
     "prompt_number": 19
    },
    {
     "cell_type": "markdown",
     "metadata": {},
     "source": [
      "## XOR example"
     ]
    },
    {
     "cell_type": "code",
     "collapsed": false,
     "input": [
      "ds = SupervisedDataSet(2, 1)\n",
      "ds.addSample((0,0), (0,))\n",
      "ds.addSample((0,1), (1,))\n",
      "ds.addSample((1,0), (1,))\n",
      "ds.addSample((1,1), (0,))"
     ],
     "language": "python",
     "metadata": {},
     "outputs": [],
     "prompt_number": 100
    },
    {
     "cell_type": "code",
     "collapsed": false,
     "input": [
      "scatter(ds['input'][:, 0], ds['input'][:, 1], c=ds['target'], cmap=cm.gray, s=100)"
     ],
     "language": "python",
     "metadata": {},
     "outputs": [
      {
       "metadata": {},
       "output_type": "pyout",
       "prompt_number": 118,
       "text": [
        "<matplotlib.collections.PathCollection at 0x7faf5e733c10>"
       ]
      },
      {
       "metadata": {},
       "output_type": "display_data",
       "png": "[encoded data removed]",
       "text": [
        "<matplotlib.figure.Figure at 0x7faf5eb5a6d0>"
       ]
      }
     ],
     "prompt_number": 118
    },
    {
     "cell_type": "code",
     "collapsed": false,
     "input": [
      "from pybrain.supervised.trainers import BackpropTrainer\n",
      "net = buildNetwork(ds.indim, 10, 2, ds.outdim)\n",
      "\n",
      "trainer = BackpropTrainer(net, ds, momentum = 0.99, verbose = False) # set verbose True to see 'Total Error'\n",
      "for epoch in range(0,1000):\n",
      "    trainer.train()"
     ],
     "language": "python",
     "metadata": {},
     "outputs": [],
     "prompt_number": 113
    },
    {
     "cell_type": "code",
     "collapsed": false,
     "input": [
      "print net.activate([0, 0])\n",
      "print net.activate([0, 1])\n",
      "print net.activate([1, 0])\n",
      "print net.activate([1, 1])"
     ],
     "language": "python",
     "metadata": {},
     "outputs": [
      {
       "output_type": "stream",
       "stream": "stdout",
       "text": [
        "[  8.07994116e-10]\n",
        "[ 1.]\n",
        "[ 1.]\n",
        "[  2.60712540e-09]\n"
       ]
      }
     ],
     "prompt_number": 114
    }
   ],
   "metadata": {}
  }
 ]
}